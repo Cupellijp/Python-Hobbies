{
 "cells": [
  {
   "cell_type": "code",
   "execution_count": 2,
   "metadata": {},
   "outputs": [
    {
     "name": "stdout",
     "output_type": "stream",
     "text": [
      "Birthday: 12/15/1984\n",
      "Current day: 04/09/2024 - Current Age: 39\n",
      "Future date: 08/12/2045 - Age will be: 60\n"
     ]
    }
   ],
   "source": [
    "from datetime import datetime\n",
    "\n",
    "# Function to calculate age\n",
    "def calculate_age(birthdate, on_date):\n",
    "    return on_date.year - birthdate.year - ((on_date.month, on_date.day) < (birthdate.month, birthdate.day))\n",
    "\n",
    "# Prompt for birthday and convert to datetime object\n",
    "birthday_str = input(\"Enter your birthday (mm/dd/yyyy): \")\n",
    "birthday = datetime.strptime(birthday_str, \"%m/%d/%Y\")\n",
    "\n",
    "# Get the current date\n",
    "current_date = datetime.now()\n",
    "\n",
    "# Calculate current age\n",
    "current_age = calculate_age(birthday, current_date)\n",
    "\n",
    "# Prompt for a future date and convert to datetime object\n",
    "future_date_str = input(\"Enter a future date (mm/dd/yyyy): \")\n",
    "future_date = datetime.strptime(future_date_str, \"%m/%d/%Y\")\n",
    "\n",
    "# Calculate future age\n",
    "future_age = calculate_age(birthday, future_date)\n",
    "\n",
    "# Output the results\n",
    "print(f\"Birthday: {birthday.strftime('%m/%d/%Y')}\")\n",
    "print(f\"Current day: {current_date.strftime('%m/%d/%Y')} - Current Age: {current_age}\")\n",
    "print(f\"Future date: {future_date.strftime('%m/%d/%Y')} - Age will be: {future_age}\")\n"
   ]
  }
 ],
 "metadata": {
  "kernelspec": {
   "display_name": "Python 3",
   "language": "python",
   "name": "python3"
  },
  "language_info": {
   "codemirror_mode": {
    "name": "ipython",
    "version": 3
   },
   "file_extension": ".py",
   "mimetype": "text/x-python",
   "name": "python",
   "nbconvert_exporter": "python",
   "pygments_lexer": "ipython3",
   "version": "3.11.9"
  }
 },
 "nbformat": 4,
 "nbformat_minor": 2
}
