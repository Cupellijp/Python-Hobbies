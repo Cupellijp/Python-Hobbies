{
 "cells": [
  {
   "cell_type": "code",
   "execution_count": 1,
   "metadata": {},
   "outputs": [],
   "source": [
    "import os\n",
    "import time\n",
    "\n",
    "# Set the age limit for files (30 days in seconds)\n",
    "age_limit = 30 * 24 * 60 * 60\n",
    "\n",
    "# Get the current time\n",
    "current_time = time.time()\n",
    "\n",
    "# Directory to clean\n",
    "directory = '.'\n",
    "\n",
    "# Iterate over each file in the directory\n",
    "for filename in os.listdir(directory):\n",
    "    # Get the path to the file\n",
    "    file_path = os.path.join(directory, filename)\n",
    "    # Get the modification time and calculate the file's age\n",
    "    file_age = current_time - os.path.getmtime(file_path)\n",
    "    # Check if the file is older than the age limit\n",
    "    if file_age > age_limit:\n",
    "        # Only delete files, not directories\n",
    "        if os.path.isfile(file_path):\n",
    "            os.remove(file_path)\n",
    "            print(f\"Deleted {filename} as it was older than 30 days.\")\n"
   ]
  }
 ],
 "metadata": {
  "kernelspec": {
   "display_name": ".venv",
   "language": "python",
   "name": "python3"
  },
  "language_info": {
   "codemirror_mode": {
    "name": "ipython",
    "version": 3
   },
   "file_extension": ".py",
   "mimetype": "text/x-python",
   "name": "python",
   "nbconvert_exporter": "python",
   "pygments_lexer": "ipython3",
   "version": "3.11.9"
  }
 },
 "nbformat": 4,
 "nbformat_minor": 2
}
