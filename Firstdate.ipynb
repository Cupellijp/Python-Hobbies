{
 "cells": [
  {
   "cell_type": "code",
   "execution_count": null,
   "metadata": {},
   "outputs": [],
   "source": [
    "import os\n",
    "from datetime import datetime\n",
    "\n",
    "# Directory where the files are located\n",
    "directory = '.'\n",
    "\n",
    "# Rename the files based on their creation date\n",
    "for filename in os.listdir(directory):\n",
    "    # Skip directories\n",
    "    if not os.path.isfile(os.path.join(directory, filename)):\n",
    "        continue\n",
    "    \n",
    "    # Get the path to the file\n",
    "    file_path = os.path.join(directory, filename)\n",
    "    \n",
    "    # Get the creation time of the file and format it\n",
    "    creation_time = os.path.getctime(file_path)\n",
    "    date_str = datetime.fromtimestamp(creation_time).strftime('%Y-%m-%d')\n",
    "    \n",
    "    # Prepare the new file name\n",
    "    name, extension = os.path.splitext(filename)\n",
    "    new_name = f\"{date_str}_{name}{extension}\"\n",
    "    \n",
    "    # Rename the file\n",
    "    os.rename(file_path, os.path.join(directory, new_name))\n",
    "    print(f\"Renamed {filename} to {new_name}\")\n"
   ]
  }
 ],
 "metadata": {
  "language_info": {
   "name": "python"
  }
 },
 "nbformat": 4,
 "nbformat_minor": 2
}
